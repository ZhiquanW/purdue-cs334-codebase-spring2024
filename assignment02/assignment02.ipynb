{
 "cells": [
  {
   "cell_type": "markdown",
   "metadata": {},
   "source": [
    "# Assignment 02\n",
    "Welcome to our cs334 assignment 02. In this assignment you are going to implement the basic forward kinematic and inverse kinematic algorithms we discussed in the previous lecture.\n",
    "\n",
    "Please complete this assignment by following the instruction in each block step by step. There are 3 blocks that your need to fill in, and you MUST implement your solution within the range of Implementation Block. The location of the Implementation Block is labeled by comments: \"Implementation Block of \\<algorithm\\> starts here\" and \"Implementation Block of \\<algorithm\\> ends here\"\n",
    "- You CAN NOT create any new blocks.\n",
    "- You CAN NOT modify any blocks or codes.\n",
    "- You CAN NOT create any extra files.\n",
    "- You CAN NOT use any third party library, except for numpy and matplotlib\n",
    "- You CAN NOT write any code outside the range of Implementation Block.\n",
    " > Release: Tuesday, Mar, 5, 2024\n",
    "\n",
    "> Due: Thursday, 3:00 pm, Mar 7, 2024 (Before Class)\n",
    "\n",
    "## Online Environment\n",
    "you can upload this notebook to google colab, so you can run everything online (you may miss demo gifs in google colab, but you can check them in local)\n",
    "\n",
    "## Submission\n",
    "1. only on .zip file should be uploaded, the following files shoulbe be included the .zip file\n",
    "   1. assignment02.ipynb (this file: -100 points if missing it)\n",
    "   2. task1.gif (20 points)\n",
    "   3. task2_1.gif (20 points)\n",
    "   4. task2_2.gif (20 points)\n",
    "   5. task3_1.gif (20 points)\n",
    "   6. task3_2.gif (20 points)\n",
    "   7. extra_points.gif (30 points) \n",
    "2. missing any of the file will lead you to lose its corresponding points.\n",
    "3. any extra files submitted will be ignored."
   ]
  },
  {
   "cell_type": "code",
   "execution_count": null,
   "metadata": {},
   "outputs": [],
   "source": [
    "# run the following command to install the required packages\n",
    "! pip install numpy\n",
    "! pip install matplotlib"
   ]
  },
  {
   "cell_type": "code",
   "execution_count": null,
   "metadata": {},
   "outputs": [],
   "source": [
    "from typing import List\n",
    "import numpy as np\n",
    "from IPython.display import HTML\n",
    "import utils\n",
    "\n",
    "%load_ext autoreload\n",
    "%autoreload 2\n",
    "%matplotlib inline  \n"
   ]
  },
  {
   "cell_type": "markdown",
   "metadata": {},
   "source": [
    "# task 1: forward kinematics (20 points)\n",
    "please implement your fabrik algorithm in the block below (within the implementation block).\n",
    "1. your implementation should support fk in 3d space, including 3d arms and 3d target.\n",
    "2. your implementation should support bones with arbitrary length. \n",
    "3. Attention: position of arm and direction of axis are defined in global space\n",
    "- you can use utils.normalize to normalize a vector\n",
    "- you can use utils.length to compute the length of a vector\n",
    "- you can use utils.rotation_mat_3d to get the rotation matrix of a 3d rotation \n",
    "- you can use utils.angle_between3d to get the angle between 2 vectors.\n",
    "\n",
    "\n"
   ]
  },
  {
   "cell_type": "code",
   "execution_count": null,
   "metadata": {},
   "outputs": [],
   "source": [
    "def forward_kinematic_3d(arm:np.ndarray,axis:np.ndarray, angles:List[float]):\n",
    "    \"\"\"\n",
    "    Implement the forward kinematic for a 3D arm\n",
    "    :param arm: np.ndarray of shape (n,3) representing the arm with n nodes in global position\n",
    "    :param axis: np.ndarray of shape (n-1,3) representing the axis of rotation for each bone in GLOBAL SPACE\n",
    "    :param angles: np.ndarray of shape (n-1,) representing the angle of rotation for each bone\n",
    "    :return: np.ndarray of shape (n,3) representing the position of each bone\n",
    "    \"\"\"\n",
    "    num_nodes = arm.shape[0]\n",
    "    assert arm.shape == (num_nodes, 3), f\"Expected arm to be of shape {(num_nodes, 3)} but got {arm.shape}\"\n",
    "    assert axis.shape == (num_nodes - 1, 3), f\"Expected axis to be of shape {(num_nodes - 1, 3)} but got {axis.shape}\"\n",
    "    assert len(angles)== num_nodes-1, f\"Expected angles to be of length {num_nodes-1} but got {len(angles)}\"\n",
    "    ########## Implementation Block of FK algorithm starts here ##########\n",
    "    # your code here, official solution has 8 lines of code (not optimized for line count)\n",
    "  \n",
    "    ########## Implementation Block of FK algorithm ends here ##########\n",
    "    return arm"
   ]
  },
  {
   "cell_type": "markdown",
   "metadata": {},
   "source": [
    "## task 1 test case 0: \n",
    "- Run the test case below to test your solution\n",
    "- You should be able to see the following gif after running the block successfully. (maybe different play speed)\n",
    "\n",
    " \n",
    "![fk3d.gif](fk3d.gif)"
   ]
  },
  {
   "cell_type": "code",
   "execution_count": null,
   "metadata": {},
   "outputs": [],
   "source": [
    "arm = np.array([[0.0, 0.0, 0.0], [0.0, 0.5, 0.0], [0.0, 1.0, 0.0],[0.0, 2.0, 0.0]])\n",
    "init_axis = np.array([[1.0,0.0, 0.0], [0.0, 1.0, 0.0],[0.0,0.0,1.0]])\n",
    "delta_angles = [-0.1, 0.1,0.05]\n",
    "timesteps = 200\n",
    "ik_arms = []\n",
    "\n",
    "for i in range(timesteps):\n",
    "    arm = forward_kinematic_3d(arm,init_axis,delta_angles)\n",
    "    ik_arms.append(arm)\n",
    "ik_arms = np.array(ik_arms)\n",
    "print(\"generating animations\")\n",
    "ani = utils.plot_nodes_trajs(ik_arms,\"fk3d.gif\")\n",
    "ik_end_targets = ik_arms[:, -1]\n",
    "HTML(data=ani.to_jshtml())"
   ]
  },
  {
   "cell_type": "markdown",
   "metadata": {},
   "source": [
    "# task 1 result generation\n",
    "Run the following block which generates a gif \"task1.gif\"."
   ]
  },
  {
   "cell_type": "code",
   "execution_count": null,
   "metadata": {},
   "outputs": [],
   "source": [
    "arm = np.array([[0.0, 0.0, 0.0], [0.0, 0.5, 0.0], [0.0, 1.0, 0.0], [0.0, 2.0, 0.0]])\n",
    "axis = np.array([[0.0, 0.0, 1.0], [1.0, 1.0, 1.0], [0.0, 0.0, 1.0]])\n",
    "delta_angles = [0.1, -0.05, -0.1]\n",
    "timesteps = 200\n",
    "ik_arms = []\n",
    "\n",
    "for i in range(timesteps):\n",
    "    arm = forward_kinematic_3d(arm, axis, delta_angles)\n",
    "    ik_arms.append(arm)\n",
    "ik_arms = np.array(ik_arms)\n",
    "print(\"generating animations task1.gif\")\n",
    "ani = utils.plot_nodes_trajs(ik_arms,\"task1.gif\")\n",
    "# ik_end_targets = ik_arms[:, -1]\n",
    "HTML(data=ani.to_jshtml())"
   ]
  },
  {
   "cell_type": "markdown",
   "metadata": {},
   "source": [
    "# task 2: fabrik algorithm (40 points)\n",
    "please implement your fabrik algorithm in the block below (within the implementation block).\n",
    "1. your implementation should support ik in 3d space, including 3d arms and 3d target. (20 points)\n",
    "2. your implementation should support bones with arbitrary length. (20 points)\n",
    "\n",
    "- you can use utils.normalize to normalize a vector\n",
    "- you can use utils.length to compute the length of a vector\n",
    "- you can use utils.rotation_mat_3d to get the rotation matrix of a 3d rotation \n",
    "- you can use utils.angle_between3d to get the angle between 2 vectors.\n",
    "\n",
    "\n",
    "> reference: http://www.andreasaristidou.com/publications/papers/FABRIK.pdf"
   ]
  },
  {
   "cell_type": "code",
   "execution_count": null,
   "metadata": {},
   "outputs": [],
   "source": [
    "def fabrik_3d(arm:np.ndarray, end_target:np.ndarray, max_iter:int = 1000,precision:float = 0.01) -> np.ndarray:\n",
    "    \"\"\"\n",
    "    Implement the FABRIK algorithm for a 3D arm\n",
    "    :param arm: np.ndarray of shape (n,3) representing the joints of the arm (the first joint is at the origin and static)\n",
    "    :param end_target: np.ndarray of shape (3,) representing the end effector target\n",
    "    :param max_iter: int, maximum number of iterations\n",
    "    :param precision: float, tolerance for the distance between the end effector and the target\n",
    "    :return: np.ndarray of shape (n,3) representing the new joints of the arm\n",
    "    \"\"\"\n",
    "    num_joints = arm.shape[0]\n",
    "    assert arm.shape == (num_joints, 3), f\"Expected arm to be of shape {(num_joints, 3)} but got {arm.shape}\"\n",
    "    assert end_target.shape == (3,), f\"Expected end_target to be of shape (3,) but got {end_target.shape}\"\n",
    "\n",
    "    ########## Implementation Block of FABRIK algorithm starts here ##########\n",
    "    # your code here, solution is 16 lines of code (not optimized for line count)\n",
    "    \n",
    "    ########## Implementation Block of FABRIK algorithm ends here ##########\n",
    "    arm = np.array(arm)\n",
    "    assert arm.shape == (num_joints, 3), f\"Expected IK arm to be of shape {(num_joints, 3)} but got {arm.shape}\"\n",
    "    return arm"
   ]
  },
  {
   "cell_type": "markdown",
   "metadata": {},
   "source": [
    "## task 2 test case 0: \n",
    "- Run the test case below to test your solution\n",
    "- You should be able to see the following gif after running the block successfully. (maybe different play speed)\n",
    " \n",
    "![fabrik3d_fktargets.gif](fabrik3d_fktargets.gif)"
   ]
  },
  {
   "cell_type": "code",
   "execution_count": null,
   "metadata": {},
   "outputs": [],
   "source": [
    "# arm = np.array([[0.0, 0.0, 0.0], [0.0, 0.5, 0.0], [0.0, 1.5, 0.0], [0.0, 2.0, 0.0]])\n",
    "arm = np.array([[0.0, 0.0, 0.0], [0.0, 0.5, 0.0], [0.0, 1.0, 0.0], [0.0, 2.0, 0.0]])\n",
    "end_targets = ik_end_targets\n",
    "ik_arms = []\n",
    "for i in range(len(end_targets)):\n",
    "    arm = fabrik_3d(arm, end_targets[i])\n",
    "    ik_arms.append(arm)\n",
    "ik_arms = np.array(ik_arms)\n",
    "print(\"generating animations\")\n",
    "ani = utils.plot_nodes_trajs(ik_arms,\"fabrik3d_fktargets.gif\")\n",
    "HTML(data=ani.to_jshtml())"
   ]
  },
  {
   "cell_type": "markdown",
   "metadata": {},
   "source": [
    "## task 2 test case 1: \n",
    "- Run the test case below to test your solution\n",
    "- You should be able to see the following gif after running the block successfully. (maybe different play speed)\n",
    "\n",
    " \n",
    "![fabrik3d_oval.gif](fabrik3d_oval.gif)\n"
   ]
  },
  {
   "cell_type": "code",
   "execution_count": null,
   "metadata": {},
   "outputs": [],
   "source": [
    "arm = np.array([[0.0, 0.0, 0.0], [0.0, 0.5, 0.0], [0.0, 1.0, 0.0], [0.0, 3.0, 0.0]])\n",
    "end_targets = np.array(\n",
    "    [[2 * np.cos(i / 100 * 2 * np.pi), np.sin(i / 100 * 2 * np.pi), -abs(i/100-1)+0.5] for i in range(200)]\n",
    ")\n",
    "ik_arms = []\n",
    "for i in range(len(end_targets)):\n",
    "    arm = fabrik_3d(arm, end_targets[i])\n",
    "    ik_arms.append(arm)\n",
    "ik_arms = np.array(ik_arms)\n",
    "print(\"generating animations\")\n",
    "ani = utils.plot_nodes_trajs(ik_arms,\"fabrik3d_oval.gif\")\n",
    "HTML(data=ani.to_jshtml())"
   ]
  },
  {
   "cell_type": "markdown",
   "metadata": {},
   "source": [
    "# task 2 results generation\n",
    "Run the following blocks that generate 2 gifs, \"task2_1.gif\" and \"task2_2.gif\""
   ]
  },
  {
   "cell_type": "code",
   "execution_count": null,
   "metadata": {},
   "outputs": [],
   "source": [
    "arm = np.array([[0.0, 0.0, 0.0], [0.0, 1.0, 0.0], [0.0, 2.0, 0.0], [0.0, 3.0, 0.0]])\n",
    "# generatea 3d heart as end targets\n",
    "end_targets = np.array(\n",
    "    [\n",
    "        [\n",
    "            1.6 * np.sin(i / 100 * 2 * np.pi) ** 3,\n",
    "            1.3 * np.cos(i / 100 * 2 * np.pi) - 0.5 * np.cos(2 * i / 100 * 2 * np.pi)\n",
    "            - 0.2 * np.cos(3 * i / 100 * 2 * np.pi) - 0.1 * np.cos(4 * i / 100 * 2 * np.pi),\n",
    "            -abs(i / 100 - 1) + 0.5,\n",
    "        ]\n",
    "        for i in range(200)\n",
    "    ]\n",
    ")\n",
    "ik_arms = []\n",
    "for i in range(len(end_targets)):\n",
    "    arm = fabrik_3d(arm, end_targets[i])\n",
    "    ik_arms.append(arm)\n",
    "ik_arms = np.array(ik_arms)\n",
    "print(\"generating animations task2_1.gif\")\n",
    "ani = utils.plot_nodes_trajs(ik_arms,\"task2_1.gif\")\n",
    "HTML(data=ani.to_jshtml())\n"
   ]
  },
  {
   "cell_type": "code",
   "execution_count": null,
   "metadata": {},
   "outputs": [],
   "source": [
    "arm = np.array([[0.0, 0.0, 0.0], [0.0, 0.5, 0.0], [0.0, 1.2, 0.0], [0.0, 3.0, 0.0]])\n",
    "# generatea 3d heart as end targets\n",
    "end_targets = np.array(\n",
    "    [\n",
    "        [\n",
    "            1.6 * np.sin(i / 100 * 2 * np.pi) ** 3,\n",
    "            abs(i / 100 - 1) - 0.5,\n",
    "            1.3 * np.cos(i / 100 * 2 * np.pi)\n",
    "            - 0.5 * np.cos(2 * i / 100 * 2 * np.pi)\n",
    "            - 0.2 * np.cos(3 * i / 100 * 2 * np.pi)\n",
    "            - 0.1 * np.cos(4 * i / 100 * 2 * np.pi),\n",
    "        ]\n",
    "        for i in range(200)\n",
    "    ]\n",
    ")\n",
    "ik_arms = []\n",
    "for i in range(len(end_targets)):\n",
    "    arm = fabrik_3d(arm, end_targets[i])\n",
    "    ik_arms.append(arm)\n",
    "ik_arms = np.array(ik_arms)\n",
    "print(\"generating animations task2_2.gif\")\n",
    "ani = utils.plot_nodes_trajs(ik_arms, \"task2_2.gif\")\n",
    "HTML(data=ani.to_jshtml())"
   ]
  },
  {
   "cell_type": "markdown",
   "metadata": {},
   "source": [
    "# task 3: ccdik algorithm (40 points)\n",
    "please implement your ccdik algorithm in the block below (within the implementation block).\n",
    "1. your implementation should support ik in 3d space, including 3d arms and 3d target.(20 points)\n",
    "2. your implementation should support bones with arbitrary length. (20 points)\n",
    "- you can use utils.normalize to normalize a vector\n",
    "- you can use utils.length to compute the length of a vector\n",
    "- you can use utils.rotation_mat_3d to get the rotation matrix of a 3d rotation \n",
    "- you can use utils.angle_between3d to get the angle between 2 vectors.\n",
    "\n",
    "> reference: https://alogicalmind.com/res/inverse_kinematics_ccd/paper.pdf"
   ]
  },
  {
   "cell_type": "code",
   "execution_count": null,
   "metadata": {},
   "outputs": [],
   "source": [
    "def ccdik_3d(\n",
    "        arm:np.ndarray, end_target:np.ndarray, max_iter:int = 1000,precision:float = 0.01\n",
    ")->np.ndarray:\n",
    "    \"\"\"\n",
    "    Implement the CCD algorithm for a 3D arm\n",
    "    :param arm: np.ndarray of shape (n,3) representing the joints of the arm (the first joint is at the origin and static)\n",
    "    :param end_target: np.ndarray of shape (3,) representing the end effector target\n",
    "    :param max_iter: int, maximum number of iterations\n",
    "    :param precision: float, tolerance for the distance between the end effector and the target\n",
    "    :return: np.ndarray of shape (n,3) representing the new joints of the arm\n",
    "    \"\"\"\n",
    "    num_joints = arm.shape[0]\n",
    "    assert arm.shape == (num_joints, 3), f\"Expected arm to be of shape {(num_joints, 3)} but got {arm.shape}\"\n",
    "    assert end_target.shape == (3,), f\"Expected end_target to be of shape (3,) but got {end_target.shape}\"\n",
    "\n",
    "    ########## Implementation Block of CCDIK algorithm starts here ##########\n",
    "    # your implementation, solution is 11 lines of code (not optimized for line count)\n",
    "   \n",
    "    ########## Implementation Block of CCDIK algorithm ends here ##########\n",
    "    return arm"
   ]
  },
  {
   "cell_type": "markdown",
   "metadata": {},
   "source": [
    "## task 3 test case 0: \n",
    "- Run the test case below to test your solution\n",
    "- You should be able to see the following gif after running the block successfully. (maybe different play speed)\n",
    "\n",
    " \n",
    "![ccdik3d_kftargets.gif](ccdik3d_fktargets.gif)"
   ]
  },
  {
   "cell_type": "code",
   "execution_count": null,
   "metadata": {},
   "outputs": [],
   "source": [
    "arm = np.array([[0.0, 0.0, 0.0], [0.0, 0.5, 0.0], [0.0, 1.0, 0.0], [0.0, 3.0, 0.0]])\n",
    "end_targets = ik_end_targets\n",
    "ik_arms = []\n",
    "for i in range(len(end_targets)):\n",
    "    arm = ccdik_3d(arm, end_targets[i])\n",
    "    ik_arms.append(arm)\n",
    "ik_arms = np.array(ik_arms)\n",
    "print(\"generating animations\")\n",
    "ani = utils.plot_nodes_trajs(ik_arms, \"ccdik3d_fktargets.gif\")\n",
    "HTML(data=ani.to_jshtml())"
   ]
  },
  {
   "cell_type": "markdown",
   "metadata": {},
   "source": [
    "## task 3 test case 1: \n",
    "- Run the test case below to test your solution\n",
    "- You should be able to see the following gif after running the block successfully. (maybe different play speed)\n",
    "\n",
    " \n",
    "![ccdik3d_oval.gif](ccdik3d_oval.gif)"
   ]
  },
  {
   "cell_type": "code",
   "execution_count": null,
   "metadata": {},
   "outputs": [],
   "source": [
    "arm = np.array([[0.0, 0.0, 0.0], [0.0, 0.5, 0.0], [0.0, 1.0, 0.0], [0.0, 3.0, 0.0]])\n",
    "end_targets = np.array(\n",
    "    [\n",
    "        [2 * np.cos(i / 100 * 2 * np.pi), np.sin(i / 100 * 2 * np.pi), -abs(i / 100 - 1) + 0.5]\n",
    "        for i in range(200)\n",
    "    ]\n",
    ")\n",
    "ik_arms = []\n",
    "for i in range(len(end_targets)):\n",
    "    arm = ccdik_3d(arm, end_targets[i])\n",
    "    ik_arms.append(arm)\n",
    "ik_arms = np.array(ik_arms)\n",
    "print(\"generating animations\")\n",
    "ani = utils.plot_nodes_trajs(ik_arms, \"ccdik3d_oval.gif\")\n",
    "HTML(data=ani.to_jshtml())"
   ]
  },
  {
   "cell_type": "markdown",
   "metadata": {},
   "source": [
    "# task 3 results generation\n",
    "Run the following blocks that generate 2 gifs, \"task3_1.gif\" and \"task3_2.gif\""
   ]
  },
  {
   "cell_type": "code",
   "execution_count": null,
   "metadata": {},
   "outputs": [],
   "source": [
    "arm = np.array([[0.0, 0.0, 0.0], [0.0, 1.0, 0.0],[0.0,2.0,0.0], [0.0, 3.0, 0.0]])\n",
    "end_targets = np.array(\n",
    "    [\n",
    "        [ 1.5 * np.cos(i / 100 * 2 * np.pi),   2 * np.sin(1 + i / 100 * 2 * np.pi), -abs(i / 100 - 1) + 0.5]\n",
    "        for i in range(200)\n",
    "    ]\n",
    ")\n",
    "\n",
    "ik_arms = []\n",
    "for i in range(len(end_targets)):\n",
    "    arm = ccdik_3d(arm, end_targets[i])\n",
    "    ik_arms.append(arm)\n",
    "ik_arms = np.array(ik_arms)\n",
    "print(\"generating animations\")\n",
    "ani = utils.plot_nodes_trajs(ik_arms, \"task3_1.gif\")\n",
    "HTML(data=ani.to_jshtml())"
   ]
  },
  {
   "cell_type": "code",
   "execution_count": null,
   "metadata": {},
   "outputs": [],
   "source": [
    "arm = np.array([[0.0, 0.0, 0.0], [0.0, 0.5, 0.0], [0.0, 1.0, 0.0], [0.0, 2.0, 0.0],[0.0,2.5,0.0]])\n",
    "end_targets = np.array(\n",
    "    [\n",
    "        [1.5 * np.cos(i / 100 * 2 * np.pi), 2 * np.sin(1 + i / 100 * 2 * np.pi), -abs(i / 100 - 1) + 0.5]\n",
    "        for i in range(200)\n",
    "    ]\n",
    ")\n",
    "\n",
    "ik_arms = []\n",
    "for i in range(len(end_targets)):\n",
    "    arm = ccdik_3d(arm, end_targets[i])\n",
    "    ik_arms.append(arm)\n",
    "ik_arms = np.array(ik_arms)\n",
    "print(\"generating animations\")\n",
    "ani = utils.plot_nodes_trajs(ik_arms, \"task3_1.gif\")\n",
    "HTML(data=ani.to_jshtml())"
   ]
  },
  {
   "cell_type": "markdown",
   "metadata": {},
   "source": [
    "# extra points:\n",
    "Please come up a trajectory that the end effector of the arm can not reach any point on it. However, the max length of the arm > the distance from the root of the arm to any point on the trajectory\n",
    "\n",
    "1. you should implement your own plot method that draws the end joint trajectory (green) and the target trajectory (red) with a gif"
   ]
  },
  {
   "cell_type": "code",
   "execution_count": null,
   "metadata": {},
   "outputs": [],
   "source": [
    "arm = np.array([[0.0, 0.0, 0.0], [0.0, 3.0, 0.0], [0.0, 2.0, 0.0]])\n",
    "########## Implementation Block of extra points starts here ##########\n",
    "end_targets = None\n",
    "########## Implementation Block of extra points ends here ##########\n",
    "ik_arms = []\n",
    "for i in range(len(end_targets)):\n",
    "    arm = ccdik_3d(arm, end_target=end_targets[i])\n",
    "    ik_arms.append(arm)\n",
    "ik_arms = np.array(ik_arms)\n",
    "print(\"generating animations\")\n",
    "########## Implementation Block of extra points starts here ##########\n",
    "# generate your gif here with name \"extra_points.gif\"\n",
    "########## Implementation Block of extra points ends here ##########"
   ]
  }
 ],
 "metadata": {
  "kernelspec": {
   "display_name": "Python 3",
   "language": "python",
   "name": "python3"
  },
  "language_info": {
   "codemirror_mode": {
    "name": "ipython",
    "version": 3
   },
   "file_extension": ".py",
   "mimetype": "text/x-python",
   "name": "python",
   "nbconvert_exporter": "python",
   "pygments_lexer": "ipython3",
   "version": "3.11.0"
  }
 },
 "nbformat": 4,
 "nbformat_minor": 2
}
